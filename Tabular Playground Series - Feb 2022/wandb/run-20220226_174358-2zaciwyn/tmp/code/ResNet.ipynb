{
 "cells": [
  {
   "cell_type": "code",
   "execution_count": 1,
   "id": "c8c967e2-4e6c-40cd-8ed3-8752525d97f3",
   "metadata": {},
   "outputs": [],
   "source": [
    "import os \n",
    "import pandas as pd \n",
    "import numpy as np\n",
    "import torch\n",
    "import torch.nn as nn\n",
    "import torch.nn.functional as F\n",
    "from tqdm import tqdm\n",
    "from math import factorial\n",
    "from torch.utils.data import Dataset, DataLoader\n",
    "from sklearn.model_selection import train_test_split\n",
    "from sklearn.preprocessing import LabelEncoder\n",
    "from sklearn.metrics import confusion_matrix, classification_report\n",
    "from sklearn.utils.class_weight import compute_class_weight"
   ]
  },
  {
   "cell_type": "code",
   "execution_count": 2,
   "id": "a8d47efd-8463-400c-a9c2-8c2203d8bf1b",
   "metadata": {},
   "outputs": [
    {
     "name": "stdout",
     "output_type": "stream",
     "text": [
      "NVIDIA GeForce GTX 1650\n"
     ]
    }
   ],
   "source": [
    "print(torch.cuda.get_device_name(0))\n",
    "device = torch.device('cuda:0')"
   ]
  },
  {
   "cell_type": "code",
   "execution_count": 3,
   "id": "9c2afccc-4037-4d05-a514-ef4c921def65",
   "metadata": {},
   "outputs": [
    {
     "name": "stdout",
     "output_type": "stream",
     "text": [
      "env: WANDB_NOTEBOOK_NAME=ResNet.ipynb\n"
     ]
    },
    {
     "name": "stderr",
     "output_type": "stream",
     "text": [
      "\u001b[34m\u001b[1mwandb\u001b[0m: Currently logged in as: \u001b[33meddiezhuang\u001b[0m (use `wandb login --relogin` to force relogin)\n"
     ]
    },
    {
     "data": {
      "text/plain": [
       "True"
      ]
     },
     "execution_count": 3,
     "metadata": {},
     "output_type": "execute_result"
    }
   ],
   "source": [
    "import wandb\n",
    "\n",
    "%set_env WANDB_NOTEBOOK_NAME ResNet.ipynb \n",
    "wandb.login()"
   ]
  },
  {
   "cell_type": "code",
   "execution_count": 4,
   "id": "221b3147-faab-4e74-ad9e-a1418c265520",
   "metadata": {},
   "outputs": [],
   "source": [
    "train_df = pd.read_csv('train_preprocessed.csv')\n",
    "test_df = pd.read_csv('test_preprocessed.csv')\n",
    "sub_df = pd.read_csv('tabular-playground-series-feb-2022/sample_submission.csv')"
   ]
  },
  {
   "cell_type": "code",
   "execution_count": 5,
   "id": "82b7c6c7-2fa2-4ec8-9f67-2dafd339559d",
   "metadata": {},
   "outputs": [],
   "source": [
    "train_df.drop('row_id', axis=1, inplace=True)\n",
    "test_df.drop('row_id', axis=1, inplace=True)"
   ]
  },
  {
   "cell_type": "code",
   "execution_count": 6,
   "id": "e1f5d6f5-5a01-4752-96e3-520f742d879f",
   "metadata": {},
   "outputs": [
    {
     "data": {
      "text/plain": [
       "LabelEncoder()"
      ]
     },
     "execution_count": 6,
     "metadata": {},
     "output_type": "execute_result"
    }
   ],
   "source": [
    "le = LabelEncoder()\n",
    "le.fit(train_df.target)"
   ]
  },
  {
   "cell_type": "code",
   "execution_count": 7,
   "id": "97786166-e2f9-48ee-96f7-62161ea14299",
   "metadata": {},
   "outputs": [],
   "source": [
    "X = train_df.loc[:, train_df.columns != 'target']\n",
    "y = le.transform(train_df.target)"
   ]
  },
  {
   "cell_type": "code",
   "execution_count": 8,
   "id": "0fea340b-7c0a-411f-837b-b133ed87f080",
   "metadata": {},
   "outputs": [],
   "source": [
    "X_train, X_val, y_train, y_val = train_test_split(X, y, test_size=0.5, random_state=1)"
   ]
  },
  {
   "cell_type": "code",
   "execution_count": 9,
   "id": "e9dff8ab-42f7-43ee-ba8f-af25a76e5a6a",
   "metadata": {},
   "outputs": [],
   "source": [
    "class CustomDataset(Dataset):\n",
    "    def __init__(self, X, y):\n",
    "        self.X = torch.tensor(X.values)\n",
    "        self.y = torch.tensor(y)  \n",
    "    def __getitem__(self, idx):\n",
    "        X = self.X[idx]\n",
    "        y = self.y[idx]\n",
    "        return X,y\n",
    "    def __len__(self):\n",
    "        return len(self.X)\n",
    "    \n",
    "class TestDataset(Dataset):\n",
    "    def __init__(self, X):\n",
    "        self.X = torch.tensor(X.values)\n",
    "    def __getitem__(self, idx):\n",
    "        return  self.X[idx]\n",
    "    def __len__(self):\n",
    "        return len(self.X)"
   ]
  },
  {
   "cell_type": "code",
   "execution_count": 10,
   "id": "3de760f1-6e56-4a1d-b1a8-d17b7558ab6b",
   "metadata": {},
   "outputs": [],
   "source": [
    "train_set = CustomDataset(X_train, y_train)\n",
    "val_set = CustomDataset(X_val, y_val)\n",
    "test_set = TestDataset(test_df)"
   ]
  },
  {
   "cell_type": "code",
   "execution_count": 11,
   "id": "e0fd7fac-514b-4e92-bc1d-712e0fbf11c2",
   "metadata": {},
   "outputs": [],
   "source": [
    "class ResidualBlock(nn.Module):\n",
    "    def __init__(self,channel):\n",
    "        super().__init__()\n",
    "        self.fc = nn.Linear(channel, channel)\n",
    "\n",
    "    def forward(self, x):\n",
    "        y = F.relu(self.fc(x))\n",
    "        y = self.fc(y)\n",
    "\n",
    "        return F.relu(x + y)\n",
    "\n",
    "class Net(nn.Module):\n",
    "    def __init__(self):\n",
    "        super().__init__()  \n",
    "        self.conv = nn.Sequential(               \n",
    "           nn.Linear(286, 512), \n",
    "           nn.ReLU(),\n",
    "           nn.BatchNorm1d(512),\n",
    "           ResidualBlock(512),\n",
    "           \n",
    "           nn.Linear(512, 256), \n",
    "           nn.ReLU(),\n",
    "           nn.BatchNorm1d(256),\n",
    "           ResidualBlock(256), \n",
    "            \n",
    "           nn.Linear(256, 128),\n",
    "           nn.ReLU(),\n",
    "           nn.BatchNorm1d(128),\n",
    "           ResidualBlock(128),\n",
    "            \n",
    "           nn.Linear(128, 128),\n",
    "           nn.ReLU(),\n",
    "           nn.BatchNorm1d(128),\n",
    "           ResidualBlock(128),\n",
    "            \n",
    "           nn.Linear(128, 64),\n",
    "           nn.ReLU()\n",
    "        )\n",
    "        self.fc = nn.Linear(64,10)\n",
    "        \n",
    "    def forward(self, x):\n",
    "        x = self.conv(x)\n",
    "        x = self.fc(x)\n",
    "        return  x"
   ]
  },
  {
   "cell_type": "code",
   "execution_count": 12,
   "id": "b1fd366e-40b5-4602-9959-274b40292174",
   "metadata": {},
   "outputs": [],
   "source": [
    "def train(model, train_loader, val_loader, criterion, optimizer, config):\n",
    "    wandb.watch(model, criterion,  log=\"all\", log_freq=10)\n",
    "    \n",
    "    model.train()\n",
    "\n",
    "    step = len(train_loader) + len(val_loader)\n",
    "    for epoch in range(config.epochs):\n",
    "        epoch_loss = 0\n",
    "\n",
    "        for x, label in tqdm(train_loader):\n",
    "            x = x.to(device)\n",
    "            label = label.type(torch.LongTensor)\n",
    "            label = label.to(device)\n",
    "\n",
    "            # Forward pass\n",
    "            output = model(x.float())\n",
    "            loss = criterion(output, label)\n",
    "            epoch_loss += loss.item()\n",
    "\n",
    "            # Backward and optimize\n",
    "            optimizer.zero_grad()\n",
    "            loss.backward()\n",
    "            optimizer.step()\n",
    "\n",
    "        for x, label in tqdm(val_loader):\n",
    "            x = x.to(device)\n",
    "            label = label.type(torch.LongTensor)\n",
    "            label = label.to(device)\n",
    "\n",
    "            # Forward pass\n",
    "            output = model(x.float())\n",
    "            loss = criterion(output, label)\n",
    "            epoch_loss += loss.item()\n",
    "\n",
    "            # Backward and optimize\n",
    "            optimizer.zero_grad()\n",
    "            loss.backward()\n",
    "            optimizer.step()\n",
    "\n",
    "        train_log(epoch_loss, epoch, step, config)"
   ]
  },
  {
   "cell_type": "code",
   "execution_count": 13,
   "id": "66c975f0-0943-4f91-b724-5efabd88a63f",
   "metadata": {},
   "outputs": [],
   "source": [
    "def train_log(loss, epoch, step, config):\n",
    "    wandb.log({'epoch': epoch, 'loss': loss}, step=epoch)\n",
    "    print(f'Epoch:[{epoch + 1}/{config.epochs}], Average Loss in ResNet: {loss/step:.6f}')"
   ]
  },
  {
   "cell_type": "code",
   "execution_count": 14,
   "id": "4ec8a85e-09ed-49bb-9b4b-e418fce0ca8c",
   "metadata": {},
   "outputs": [],
   "source": [
    "config = dict(\n",
    "    epochs=100,\n",
    "    batch_size=128,\n",
    "    learning_rate=0.0000588,\n",
    "    architecture=\"ResNet\"\n",
    ")"
   ]
  },
  {
   "cell_type": "code",
   "execution_count": null,
   "id": "183e11ba-2797-4c23-b83f-13e49c59af64",
   "metadata": {},
   "outputs": [
    {
     "data": {
      "text/html": [
       "\n",
       "                    Syncing run <strong><a href=\"https://wandb.ai/eddiezhuang/tab-playground-feb-2022/runs/2zaciwyn\" target=\"_blank\">zesty-galaxy-54</a></strong> to <a href=\"https://wandb.ai/eddiezhuang/tab-playground-feb-2022\" target=\"_blank\">Weights & Biases</a> (<a href=\"https://docs.wandb.com/integrations/jupyter.html\" target=\"_blank\">docs</a>).<br/>\n",
       "\n",
       "                "
      ],
      "text/plain": [
       "<IPython.core.display.HTML object>"
      ]
     },
     "metadata": {},
     "output_type": "display_data"
    },
    {
     "name": "stderr",
     "output_type": "stream",
     "text": [
      "100%|████████████████████████████████████████████████████████████████████████████████| 782/782 [00:51<00:00, 15.12it/s]\n",
      "100%|████████████████████████████████████████████████████████████████████████████████| 782/782 [00:12<00:00, 65.15it/s]\n"
     ]
    },
    {
     "name": "stdout",
     "output_type": "stream",
     "text": [
      "Epoch:[1/100], Average Loss in ResNet: 0.753801\n"
     ]
    },
    {
     "name": "stderr",
     "output_type": "stream",
     "text": [
      "100%|████████████████████████████████████████████████████████████████████████████████| 782/782 [00:11<00:00, 65.77it/s]\n",
      "100%|████████████████████████████████████████████████████████████████████████████████| 782/782 [00:11<00:00, 66.15it/s]\n"
     ]
    },
    {
     "name": "stdout",
     "output_type": "stream",
     "text": [
      "Epoch:[2/100], Average Loss in ResNet: 0.231512\n"
     ]
    },
    {
     "name": "stderr",
     "output_type": "stream",
     "text": [
      "100%|████████████████████████████████████████████████████████████████████████████████| 782/782 [00:11<00:00, 66.83it/s]\n",
      "100%|████████████████████████████████████████████████████████████████████████████████| 782/782 [00:11<00:00, 67.10it/s]\n"
     ]
    },
    {
     "name": "stdout",
     "output_type": "stream",
     "text": [
      "Epoch:[3/100], Average Loss in ResNet: 0.162167\n"
     ]
    },
    {
     "name": "stderr",
     "output_type": "stream",
     "text": [
      "100%|████████████████████████████████████████████████████████████████████████████████| 782/782 [00:11<00:00, 65.67it/s]\n",
      "100%|████████████████████████████████████████████████████████████████████████████████| 782/782 [00:12<00:00, 62.89it/s]\n"
     ]
    },
    {
     "name": "stdout",
     "output_type": "stream",
     "text": [
      "Epoch:[4/100], Average Loss in ResNet: 0.128804\n"
     ]
    },
    {
     "name": "stderr",
     "output_type": "stream",
     "text": [
      "100%|████████████████████████████████████████████████████████████████████████████████| 782/782 [00:14<00:00, 53.51it/s]\n",
      "100%|████████████████████████████████████████████████████████████████████████████████| 782/782 [00:12<00:00, 60.69it/s]\n"
     ]
    },
    {
     "name": "stdout",
     "output_type": "stream",
     "text": [
      "Epoch:[5/100], Average Loss in ResNet: 0.106674\n"
     ]
    },
    {
     "name": "stderr",
     "output_type": "stream",
     "text": [
      "100%|████████████████████████████████████████████████████████████████████████████████| 782/782 [00:12<00:00, 60.90it/s]\n",
      "100%|████████████████████████████████████████████████████████████████████████████████| 782/782 [00:12<00:00, 60.60it/s]\n"
     ]
    },
    {
     "name": "stdout",
     "output_type": "stream",
     "text": [
      "Epoch:[6/100], Average Loss in ResNet: 0.090003\n"
     ]
    },
    {
     "name": "stderr",
     "output_type": "stream",
     "text": [
      "100%|████████████████████████████████████████████████████████████████████████████████| 782/782 [00:12<00:00, 63.36it/s]\n",
      "100%|████████████████████████████████████████████████████████████████████████████████| 782/782 [00:12<00:00, 63.67it/s]\n"
     ]
    },
    {
     "name": "stdout",
     "output_type": "stream",
     "text": [
      "Epoch:[7/100], Average Loss in ResNet: 0.077924\n"
     ]
    },
    {
     "name": "stderr",
     "output_type": "stream",
     "text": [
      "100%|████████████████████████████████████████████████████████████████████████████████| 782/782 [00:12<00:00, 63.02it/s]\n",
      "100%|████████████████████████████████████████████████████████████████████████████████| 782/782 [00:12<00:00, 63.45it/s]\n"
     ]
    },
    {
     "name": "stdout",
     "output_type": "stream",
     "text": [
      "Epoch:[8/100], Average Loss in ResNet: 0.069191\n"
     ]
    },
    {
     "name": "stderr",
     "output_type": "stream",
     "text": [
      "100%|████████████████████████████████████████████████████████████████████████████████| 782/782 [00:12<00:00, 63.20it/s]\n",
      "100%|████████████████████████████████████████████████████████████████████████████████| 782/782 [00:12<00:00, 63.88it/s]\n"
     ]
    },
    {
     "name": "stdout",
     "output_type": "stream",
     "text": [
      "Epoch:[9/100], Average Loss in ResNet: 0.059548\n"
     ]
    },
    {
     "name": "stderr",
     "output_type": "stream",
     "text": [
      "100%|████████████████████████████████████████████████████████████████████████████████| 782/782 [00:12<00:00, 64.02it/s]\n",
      "100%|████████████████████████████████████████████████████████████████████████████████| 782/782 [00:12<00:00, 63.58it/s]\n"
     ]
    },
    {
     "name": "stdout",
     "output_type": "stream",
     "text": [
      "Epoch:[10/100], Average Loss in ResNet: 0.053951\n"
     ]
    },
    {
     "name": "stderr",
     "output_type": "stream",
     "text": [
      "100%|████████████████████████████████████████████████████████████████████████████████| 782/782 [00:12<00:00, 61.22it/s]\n",
      "100%|████████████████████████████████████████████████████████████████████████████████| 782/782 [00:12<00:00, 63.63it/s]\n"
     ]
    },
    {
     "name": "stdout",
     "output_type": "stream",
     "text": [
      "Epoch:[11/100], Average Loss in ResNet: 0.045480\n"
     ]
    },
    {
     "name": "stderr",
     "output_type": "stream",
     "text": [
      "100%|████████████████████████████████████████████████████████████████████████████████| 782/782 [00:13<00:00, 59.48it/s]\n",
      "100%|████████████████████████████████████████████████████████████████████████████████| 782/782 [00:14<00:00, 52.86it/s]\n"
     ]
    },
    {
     "name": "stdout",
     "output_type": "stream",
     "text": [
      "Epoch:[12/100], Average Loss in ResNet: 0.042152\n"
     ]
    },
    {
     "name": "stderr",
     "output_type": "stream",
     "text": [
      "100%|████████████████████████████████████████████████████████████████████████████████| 782/782 [00:13<00:00, 58.40it/s]\n",
      "100%|████████████████████████████████████████████████████████████████████████████████| 782/782 [00:13<00:00, 60.07it/s]\n"
     ]
    },
    {
     "name": "stdout",
     "output_type": "stream",
     "text": [
      "Epoch:[13/100], Average Loss in ResNet: 0.038851\n"
     ]
    },
    {
     "name": "stderr",
     "output_type": "stream",
     "text": [
      "100%|████████████████████████████████████████████████████████████████████████████████| 782/782 [00:13<00:00, 59.49it/s]\n",
      "100%|████████████████████████████████████████████████████████████████████████████████| 782/782 [00:13<00:00, 59.74it/s]\n"
     ]
    },
    {
     "name": "stdout",
     "output_type": "stream",
     "text": [
      "Epoch:[14/100], Average Loss in ResNet: 0.035354\n"
     ]
    },
    {
     "name": "stderr",
     "output_type": "stream",
     "text": [
      "100%|████████████████████████████████████████████████████████████████████████████████| 782/782 [00:12<00:00, 64.34it/s]\n",
      "100%|████████████████████████████████████████████████████████████████████████████████| 782/782 [00:12<00:00, 63.40it/s]\n"
     ]
    },
    {
     "name": "stdout",
     "output_type": "stream",
     "text": [
      "Epoch:[15/100], Average Loss in ResNet: 0.031904\n"
     ]
    },
    {
     "name": "stderr",
     "output_type": "stream",
     "text": [
      "100%|████████████████████████████████████████████████████████████████████████████████| 782/782 [00:12<00:00, 63.79it/s]\n",
      "100%|████████████████████████████████████████████████████████████████████████████████| 782/782 [00:12<00:00, 61.36it/s]\n"
     ]
    },
    {
     "name": "stdout",
     "output_type": "stream",
     "text": [
      "Epoch:[16/100], Average Loss in ResNet: 0.028151\n"
     ]
    },
    {
     "name": "stderr",
     "output_type": "stream",
     "text": [
      "100%|████████████████████████████████████████████████████████████████████████████████| 782/782 [00:12<00:00, 63.62it/s]\n",
      "100%|████████████████████████████████████████████████████████████████████████████████| 782/782 [00:12<00:00, 63.50it/s]\n"
     ]
    },
    {
     "name": "stdout",
     "output_type": "stream",
     "text": [
      "Epoch:[17/100], Average Loss in ResNet: 0.027142\n"
     ]
    },
    {
     "name": "stderr",
     "output_type": "stream",
     "text": [
      "100%|████████████████████████████████████████████████████████████████████████████████| 782/782 [00:12<00:00, 63.50it/s]\n",
      "100%|████████████████████████████████████████████████████████████████████████████████| 782/782 [00:12<00:00, 63.92it/s]\n"
     ]
    },
    {
     "name": "stdout",
     "output_type": "stream",
     "text": [
      "Epoch:[18/100], Average Loss in ResNet: 0.024731\n"
     ]
    },
    {
     "name": "stderr",
     "output_type": "stream",
     "text": [
      "100%|████████████████████████████████████████████████████████████████████████████████| 782/782 [00:12<00:00, 63.74it/s]\n",
      "100%|████████████████████████████████████████████████████████████████████████████████| 782/782 [00:12<00:00, 62.64it/s]\n"
     ]
    },
    {
     "name": "stdout",
     "output_type": "stream",
     "text": [
      "Epoch:[19/100], Average Loss in ResNet: 0.022312\n"
     ]
    },
    {
     "name": "stderr",
     "output_type": "stream",
     "text": [
      "100%|████████████████████████████████████████████████████████████████████████████████| 782/782 [00:12<00:00, 63.95it/s]\n",
      "100%|████████████████████████████████████████████████████████████████████████████████| 782/782 [00:12<00:00, 63.40it/s]\n"
     ]
    },
    {
     "name": "stdout",
     "output_type": "stream",
     "text": [
      "Epoch:[20/100], Average Loss in ResNet: 0.021550\n"
     ]
    },
    {
     "name": "stderr",
     "output_type": "stream",
     "text": [
      "100%|████████████████████████████████████████████████████████████████████████████████| 782/782 [00:12<00:00, 64.15it/s]\n",
      "100%|████████████████████████████████████████████████████████████████████████████████| 782/782 [00:12<00:00, 63.57it/s]\n"
     ]
    },
    {
     "name": "stdout",
     "output_type": "stream",
     "text": [
      "Epoch:[21/100], Average Loss in ResNet: 0.019683\n"
     ]
    },
    {
     "name": "stderr",
     "output_type": "stream",
     "text": [
      "100%|████████████████████████████████████████████████████████████████████████████████| 782/782 [00:12<00:00, 64.00it/s]\n",
      "100%|████████████████████████████████████████████████████████████████████████████████| 782/782 [00:12<00:00, 62.72it/s]\n"
     ]
    },
    {
     "name": "stdout",
     "output_type": "stream",
     "text": [
      "Epoch:[22/100], Average Loss in ResNet: 0.019582\n"
     ]
    },
    {
     "name": "stderr",
     "output_type": "stream",
     "text": [
      "100%|████████████████████████████████████████████████████████████████████████████████| 782/782 [00:12<00:00, 63.36it/s]\n",
      "100%|████████████████████████████████████████████████████████████████████████████████| 782/782 [00:12<00:00, 63.29it/s]\n"
     ]
    },
    {
     "name": "stdout",
     "output_type": "stream",
     "text": [
      "Epoch:[23/100], Average Loss in ResNet: 0.017100\n"
     ]
    },
    {
     "name": "stderr",
     "output_type": "stream",
     "text": [
      "100%|████████████████████████████████████████████████████████████████████████████████| 782/782 [00:12<00:00, 63.42it/s]\n",
      "100%|████████████████████████████████████████████████████████████████████████████████| 782/782 [00:12<00:00, 63.76it/s]\n"
     ]
    },
    {
     "name": "stdout",
     "output_type": "stream",
     "text": [
      "Epoch:[24/100], Average Loss in ResNet: 0.016836\n"
     ]
    },
    {
     "name": "stderr",
     "output_type": "stream",
     "text": [
      "100%|████████████████████████████████████████████████████████████████████████████████| 782/782 [00:12<00:00, 63.23it/s]\n",
      "100%|████████████████████████████████████████████████████████████████████████████████| 782/782 [00:12<00:00, 63.63it/s]\n"
     ]
    },
    {
     "name": "stdout",
     "output_type": "stream",
     "text": [
      "Epoch:[25/100], Average Loss in ResNet: 0.017313\n"
     ]
    },
    {
     "name": "stderr",
     "output_type": "stream",
     "text": [
      "100%|████████████████████████████████████████████████████████████████████████████████| 782/782 [00:12<00:00, 63.09it/s]\n",
      "100%|████████████████████████████████████████████████████████████████████████████████| 782/782 [00:12<00:00, 61.09it/s]\n"
     ]
    },
    {
     "name": "stdout",
     "output_type": "stream",
     "text": [
      "Epoch:[26/100], Average Loss in ResNet: 0.014518\n"
     ]
    },
    {
     "name": "stderr",
     "output_type": "stream",
     "text": [
      "100%|████████████████████████████████████████████████████████████████████████████████| 782/782 [00:13<00:00, 59.97it/s]\n",
      "100%|████████████████████████████████████████████████████████████████████████████████| 782/782 [00:12<00:00, 63.61it/s]\n"
     ]
    },
    {
     "name": "stdout",
     "output_type": "stream",
     "text": [
      "Epoch:[27/100], Average Loss in ResNet: 0.015694\n"
     ]
    },
    {
     "name": "stderr",
     "output_type": "stream",
     "text": [
      "100%|████████████████████████████████████████████████████████████████████████████████| 782/782 [00:12<00:00, 61.59it/s]\n",
      "100%|████████████████████████████████████████████████████████████████████████████████| 782/782 [00:12<00:00, 63.33it/s]\n"
     ]
    },
    {
     "name": "stdout",
     "output_type": "stream",
     "text": [
      "Epoch:[28/100], Average Loss in ResNet: 0.014467\n"
     ]
    },
    {
     "name": "stderr",
     "output_type": "stream",
     "text": [
      "100%|████████████████████████████████████████████████████████████████████████████████| 782/782 [00:12<00:00, 63.30it/s]\n",
      "100%|████████████████████████████████████████████████████████████████████████████████| 782/782 [00:12<00:00, 63.43it/s]\n"
     ]
    },
    {
     "name": "stdout",
     "output_type": "stream",
     "text": [
      "Epoch:[29/100], Average Loss in ResNet: 0.012714\n"
     ]
    },
    {
     "name": "stderr",
     "output_type": "stream",
     "text": [
      "100%|████████████████████████████████████████████████████████████████████████████████| 782/782 [00:12<00:00, 63.18it/s]\n",
      "100%|████████████████████████████████████████████████████████████████████████████████| 782/782 [00:12<00:00, 63.42it/s]\n"
     ]
    },
    {
     "name": "stdout",
     "output_type": "stream",
     "text": [
      "Epoch:[30/100], Average Loss in ResNet: 0.012377\n"
     ]
    },
    {
     "name": "stderr",
     "output_type": "stream",
     "text": [
      "100%|████████████████████████████████████████████████████████████████████████████████| 782/782 [00:12<00:00, 62.67it/s]\n",
      "100%|████████████████████████████████████████████████████████████████████████████████| 782/782 [00:12<00:00, 61.00it/s]\n"
     ]
    },
    {
     "name": "stdout",
     "output_type": "stream",
     "text": [
      "Epoch:[31/100], Average Loss in ResNet: 0.012485\n"
     ]
    },
    {
     "name": "stderr",
     "output_type": "stream",
     "text": [
      "100%|████████████████████████████████████████████████████████████████████████████████| 782/782 [00:12<00:00, 64.11it/s]\n",
      "100%|████████████████████████████████████████████████████████████████████████████████| 782/782 [00:12<00:00, 62.80it/s]\n"
     ]
    },
    {
     "name": "stdout",
     "output_type": "stream",
     "text": [
      "Epoch:[32/100], Average Loss in ResNet: 0.010650\n"
     ]
    },
    {
     "name": "stderr",
     "output_type": "stream",
     "text": [
      "100%|████████████████████████████████████████████████████████████████████████████████| 782/782 [00:12<00:00, 62.84it/s]\n",
      "100%|████████████████████████████████████████████████████████████████████████████████| 782/782 [00:12<00:00, 61.73it/s]\n"
     ]
    },
    {
     "name": "stdout",
     "output_type": "stream",
     "text": [
      "Epoch:[33/100], Average Loss in ResNet: 0.012505\n"
     ]
    },
    {
     "name": "stderr",
     "output_type": "stream",
     "text": [
      "100%|████████████████████████████████████████████████████████████████████████████████| 782/782 [00:12<00:00, 63.53it/s]\n",
      "100%|████████████████████████████████████████████████████████████████████████████████| 782/782 [00:12<00:00, 62.59it/s]\n"
     ]
    },
    {
     "name": "stdout",
     "output_type": "stream",
     "text": [
      "Epoch:[34/100], Average Loss in ResNet: 0.011275\n"
     ]
    },
    {
     "name": "stderr",
     "output_type": "stream",
     "text": [
      "100%|████████████████████████████████████████████████████████████████████████████████| 782/782 [00:12<00:00, 60.74it/s]\n",
      "100%|████████████████████████████████████████████████████████████████████████████████| 782/782 [00:13<00:00, 59.28it/s]\n"
     ]
    },
    {
     "name": "stdout",
     "output_type": "stream",
     "text": [
      "Epoch:[35/100], Average Loss in ResNet: 0.011096\n"
     ]
    },
    {
     "name": "stderr",
     "output_type": "stream",
     "text": [
      "100%|████████████████████████████████████████████████████████████████████████████████| 782/782 [00:12<00:00, 61.22it/s]\n",
      "100%|████████████████████████████████████████████████████████████████████████████████| 782/782 [00:12<00:00, 60.36it/s]\n"
     ]
    },
    {
     "name": "stdout",
     "output_type": "stream",
     "text": [
      "Epoch:[36/100], Average Loss in ResNet: 0.010255\n"
     ]
    },
    {
     "name": "stderr",
     "output_type": "stream",
     "text": [
      "100%|████████████████████████████████████████████████████████████████████████████████| 782/782 [00:12<00:00, 61.95it/s]\n",
      "100%|████████████████████████████████████████████████████████████████████████████████| 782/782 [00:12<00:00, 61.61it/s]\n"
     ]
    },
    {
     "name": "stdout",
     "output_type": "stream",
     "text": [
      "Epoch:[37/100], Average Loss in ResNet: 0.009721\n"
     ]
    },
    {
     "name": "stderr",
     "output_type": "stream",
     "text": [
      "100%|████████████████████████████████████████████████████████████████████████████████| 782/782 [00:12<00:00, 61.13it/s]\n",
      "100%|████████████████████████████████████████████████████████████████████████████████| 782/782 [00:12<00:00, 62.74it/s]\n"
     ]
    },
    {
     "name": "stdout",
     "output_type": "stream",
     "text": [
      "Epoch:[38/100], Average Loss in ResNet: 0.010327\n"
     ]
    },
    {
     "name": "stderr",
     "output_type": "stream",
     "text": [
      "100%|████████████████████████████████████████████████████████████████████████████████| 782/782 [00:13<00:00, 59.86it/s]\n",
      "100%|████████████████████████████████████████████████████████████████████████████████| 782/782 [00:13<00:00, 58.63it/s]\n"
     ]
    },
    {
     "name": "stdout",
     "output_type": "stream",
     "text": [
      "Epoch:[39/100], Average Loss in ResNet: 0.008986\n"
     ]
    },
    {
     "name": "stderr",
     "output_type": "stream",
     "text": [
      "100%|████████████████████████████████████████████████████████████████████████████████| 782/782 [00:12<00:00, 64.45it/s]\n",
      "100%|████████████████████████████████████████████████████████████████████████████████| 782/782 [00:12<00:00, 61.69it/s]\n"
     ]
    },
    {
     "name": "stdout",
     "output_type": "stream",
     "text": [
      "Epoch:[40/100], Average Loss in ResNet: 0.009016\n"
     ]
    },
    {
     "name": "stderr",
     "output_type": "stream",
     "text": [
      "100%|████████████████████████████████████████████████████████████████████████████████| 782/782 [00:12<00:00, 63.11it/s]\n",
      "100%|████████████████████████████████████████████████████████████████████████████████| 782/782 [00:11<00:00, 65.79it/s]\n"
     ]
    },
    {
     "name": "stdout",
     "output_type": "stream",
     "text": [
      "Epoch:[41/100], Average Loss in ResNet: 0.009651\n"
     ]
    },
    {
     "name": "stderr",
     "output_type": "stream",
     "text": [
      "100%|████████████████████████████████████████████████████████████████████████████████| 782/782 [00:11<00:00, 66.22it/s]\n",
      "100%|████████████████████████████████████████████████████████████████████████████████| 782/782 [00:11<00:00, 65.40it/s]\n"
     ]
    },
    {
     "name": "stdout",
     "output_type": "stream",
     "text": [
      "Epoch:[42/100], Average Loss in ResNet: 0.008819\n"
     ]
    },
    {
     "name": "stderr",
     "output_type": "stream",
     "text": [
      "100%|████████████████████████████████████████████████████████████████████████████████| 782/782 [00:12<00:00, 64.05it/s]\n",
      "100%|████████████████████████████████████████████████████████████████████████████████| 782/782 [00:12<00:00, 64.32it/s]\n"
     ]
    },
    {
     "name": "stdout",
     "output_type": "stream",
     "text": [
      "Epoch:[43/100], Average Loss in ResNet: 0.007962\n"
     ]
    },
    {
     "name": "stderr",
     "output_type": "stream",
     "text": [
      "100%|████████████████████████████████████████████████████████████████████████████████| 782/782 [00:11<00:00, 66.45it/s]\n",
      "100%|████████████████████████████████████████████████████████████████████████████████| 782/782 [00:12<00:00, 62.52it/s]\n"
     ]
    },
    {
     "name": "stdout",
     "output_type": "stream",
     "text": [
      "Epoch:[44/100], Average Loss in ResNet: 0.007789\n"
     ]
    },
    {
     "name": "stderr",
     "output_type": "stream",
     "text": [
      "100%|████████████████████████████████████████████████████████████████████████████████| 782/782 [00:12<00:00, 64.82it/s]\n",
      "100%|████████████████████████████████████████████████████████████████████████████████| 782/782 [00:11<00:00, 65.67it/s]\n"
     ]
    },
    {
     "name": "stdout",
     "output_type": "stream",
     "text": [
      "Epoch:[45/100], Average Loss in ResNet: 0.008702\n"
     ]
    },
    {
     "name": "stderr",
     "output_type": "stream",
     "text": [
      "100%|████████████████████████████████████████████████████████████████████████████████| 782/782 [00:12<00:00, 64.06it/s]\n",
      "100%|████████████████████████████████████████████████████████████████████████████████| 782/782 [00:12<00:00, 64.91it/s]\n"
     ]
    },
    {
     "name": "stdout",
     "output_type": "stream",
     "text": [
      "Epoch:[46/100], Average Loss in ResNet: 0.007334\n"
     ]
    },
    {
     "name": "stderr",
     "output_type": "stream",
     "text": [
      "100%|████████████████████████████████████████████████████████████████████████████████| 782/782 [00:12<00:00, 64.15it/s]\n",
      "100%|████████████████████████████████████████████████████████████████████████████████| 782/782 [00:12<00:00, 64.62it/s]\n"
     ]
    },
    {
     "name": "stdout",
     "output_type": "stream",
     "text": [
      "Epoch:[47/100], Average Loss in ResNet: 0.007669\n"
     ]
    },
    {
     "name": "stderr",
     "output_type": "stream",
     "text": [
      "100%|████████████████████████████████████████████████████████████████████████████████| 782/782 [00:11<00:00, 65.33it/s]\n",
      "100%|████████████████████████████████████████████████████████████████████████████████| 782/782 [00:12<00:00, 64.23it/s]\n"
     ]
    },
    {
     "name": "stdout",
     "output_type": "stream",
     "text": [
      "Epoch:[48/100], Average Loss in ResNet: 0.007276\n"
     ]
    },
    {
     "name": "stderr",
     "output_type": "stream",
     "text": [
      "100%|████████████████████████████████████████████████████████████████████████████████| 782/782 [00:11<00:00, 65.46it/s]\n",
      "100%|████████████████████████████████████████████████████████████████████████████████| 782/782 [00:11<00:00, 66.01it/s]\n"
     ]
    },
    {
     "name": "stdout",
     "output_type": "stream",
     "text": [
      "Epoch:[49/100], Average Loss in ResNet: 0.008259\n"
     ]
    },
    {
     "name": "stderr",
     "output_type": "stream",
     "text": [
      "100%|████████████████████████████████████████████████████████████████████████████████| 782/782 [00:12<00:00, 62.98it/s]\n",
      "100%|████████████████████████████████████████████████████████████████████████████████| 782/782 [00:11<00:00, 65.99it/s]\n"
     ]
    },
    {
     "name": "stdout",
     "output_type": "stream",
     "text": [
      "Epoch:[50/100], Average Loss in ResNet: 0.007223\n"
     ]
    },
    {
     "name": "stderr",
     "output_type": "stream",
     "text": [
      "100%|████████████████████████████████████████████████████████████████████████████████| 782/782 [00:12<00:00, 64.99it/s]\n",
      "100%|████████████████████████████████████████████████████████████████████████████████| 782/782 [00:12<00:00, 63.19it/s]\n"
     ]
    },
    {
     "name": "stdout",
     "output_type": "stream",
     "text": [
      "Epoch:[51/100], Average Loss in ResNet: 0.007807\n"
     ]
    },
    {
     "name": "stderr",
     "output_type": "stream",
     "text": [
      "100%|████████████████████████████████████████████████████████████████████████████████| 782/782 [00:12<00:00, 63.98it/s]\n",
      "100%|████████████████████████████████████████████████████████████████████████████████| 782/782 [00:12<00:00, 64.63it/s]\n"
     ]
    },
    {
     "name": "stdout",
     "output_type": "stream",
     "text": [
      "Epoch:[52/100], Average Loss in ResNet: 0.007763\n"
     ]
    },
    {
     "name": "stderr",
     "output_type": "stream",
     "text": [
      "100%|████████████████████████████████████████████████████████████████████████████████| 782/782 [00:11<00:00, 65.67it/s]\n",
      "100%|████████████████████████████████████████████████████████████████████████████████| 782/782 [00:12<00:00, 64.82it/s]\n"
     ]
    },
    {
     "name": "stdout",
     "output_type": "stream",
     "text": [
      "Epoch:[53/100], Average Loss in ResNet: 0.006652\n"
     ]
    },
    {
     "name": "stderr",
     "output_type": "stream",
     "text": [
      "100%|████████████████████████████████████████████████████████████████████████████████| 782/782 [00:12<00:00, 63.67it/s]\n",
      "100%|████████████████████████████████████████████████████████████████████████████████| 782/782 [00:11<00:00, 66.02it/s]\n"
     ]
    },
    {
     "name": "stdout",
     "output_type": "stream",
     "text": [
      "Epoch:[54/100], Average Loss in ResNet: 0.008910\n"
     ]
    },
    {
     "name": "stderr",
     "output_type": "stream",
     "text": [
      "100%|████████████████████████████████████████████████████████████████████████████████| 782/782 [00:11<00:00, 66.67it/s]\n",
      "100%|████████████████████████████████████████████████████████████████████████████████| 782/782 [00:11<00:00, 65.95it/s]\n"
     ]
    },
    {
     "name": "stdout",
     "output_type": "stream",
     "text": [
      "Epoch:[55/100], Average Loss in ResNet: 0.005505\n"
     ]
    },
    {
     "name": "stderr",
     "output_type": "stream",
     "text": [
      "100%|████████████████████████████████████████████████████████████████████████████████| 782/782 [00:11<00:00, 65.98it/s]\n",
      "100%|████████████████████████████████████████████████████████████████████████████████| 782/782 [00:11<00:00, 67.03it/s]\n"
     ]
    },
    {
     "name": "stdout",
     "output_type": "stream",
     "text": [
      "Epoch:[56/100], Average Loss in ResNet: 0.006293\n"
     ]
    },
    {
     "name": "stderr",
     "output_type": "stream",
     "text": [
      "100%|████████████████████████████████████████████████████████████████████████████████| 782/782 [00:11<00:00, 66.57it/s]\n",
      "100%|████████████████████████████████████████████████████████████████████████████████| 782/782 [00:12<00:00, 64.33it/s]\n"
     ]
    },
    {
     "name": "stdout",
     "output_type": "stream",
     "text": [
      "Epoch:[57/100], Average Loss in ResNet: 0.005702\n"
     ]
    },
    {
     "name": "stderr",
     "output_type": "stream",
     "text": [
      "100%|████████████████████████████████████████████████████████████████████████████████| 782/782 [00:11<00:00, 66.31it/s]\n",
      "100%|████████████████████████████████████████████████████████████████████████████████| 782/782 [00:11<00:00, 66.73it/s]\n"
     ]
    },
    {
     "name": "stdout",
     "output_type": "stream",
     "text": [
      "Epoch:[58/100], Average Loss in ResNet: 0.006270\n"
     ]
    },
    {
     "name": "stderr",
     "output_type": "stream",
     "text": [
      "100%|████████████████████████████████████████████████████████████████████████████████| 782/782 [00:12<00:00, 62.79it/s]\n",
      "100%|████████████████████████████████████████████████████████████████████████████████| 782/782 [00:11<00:00, 66.63it/s]\n"
     ]
    },
    {
     "name": "stdout",
     "output_type": "stream",
     "text": [
      "Epoch:[59/100], Average Loss in ResNet: 0.005626\n"
     ]
    },
    {
     "name": "stderr",
     "output_type": "stream",
     "text": [
      "100%|████████████████████████████████████████████████████████████████████████████████| 782/782 [00:11<00:00, 65.71it/s]\n",
      "100%|████████████████████████████████████████████████████████████████████████████████| 782/782 [00:12<00:00, 64.12it/s]\n"
     ]
    },
    {
     "name": "stdout",
     "output_type": "stream",
     "text": [
      "Epoch:[60/100], Average Loss in ResNet: 0.007290\n"
     ]
    },
    {
     "name": "stderr",
     "output_type": "stream",
     "text": [
      "100%|████████████████████████████████████████████████████████████████████████████████| 782/782 [00:11<00:00, 66.08it/s]\n",
      "100%|████████████████████████████████████████████████████████████████████████████████| 782/782 [00:11<00:00, 66.01it/s]\n"
     ]
    },
    {
     "name": "stdout",
     "output_type": "stream",
     "text": [
      "Epoch:[61/100], Average Loss in ResNet: 0.006998\n"
     ]
    },
    {
     "name": "stderr",
     "output_type": "stream",
     "text": [
      "100%|████████████████████████████████████████████████████████████████████████████████| 782/782 [00:11<00:00, 66.63it/s]\n",
      "100%|████████████████████████████████████████████████████████████████████████████████| 782/782 [00:11<00:00, 65.56it/s]\n"
     ]
    },
    {
     "name": "stdout",
     "output_type": "stream",
     "text": [
      "Epoch:[62/100], Average Loss in ResNet: 0.005560\n"
     ]
    },
    {
     "name": "stderr",
     "output_type": "stream",
     "text": [
      "100%|████████████████████████████████████████████████████████████████████████████████| 782/782 [00:11<00:00, 66.83it/s]\n",
      "100%|████████████████████████████████████████████████████████████████████████████████| 782/782 [00:11<00:00, 67.30it/s]\n"
     ]
    },
    {
     "name": "stdout",
     "output_type": "stream",
     "text": [
      "Epoch:[63/100], Average Loss in ResNet: 0.006272\n"
     ]
    },
    {
     "name": "stderr",
     "output_type": "stream",
     "text": [
      "100%|████████████████████████████████████████████████████████████████████████████████| 782/782 [00:11<00:00, 67.17it/s]\n",
      "100%|████████████████████████████████████████████████████████████████████████████████| 782/782 [00:11<00:00, 66.99it/s]\n"
     ]
    },
    {
     "name": "stdout",
     "output_type": "stream",
     "text": [
      "Epoch:[64/100], Average Loss in ResNet: 0.005513\n"
     ]
    },
    {
     "name": "stderr",
     "output_type": "stream",
     "text": [
      "100%|████████████████████████████████████████████████████████████████████████████████| 782/782 [00:11<00:00, 67.05it/s]\n",
      "100%|████████████████████████████████████████████████████████████████████████████████| 782/782 [00:11<00:00, 66.58it/s]\n"
     ]
    },
    {
     "name": "stdout",
     "output_type": "stream",
     "text": [
      "Epoch:[65/100], Average Loss in ResNet: 0.006001\n"
     ]
    },
    {
     "name": "stderr",
     "output_type": "stream",
     "text": [
      "100%|████████████████████████████████████████████████████████████████████████████████| 782/782 [00:11<00:00, 67.32it/s]\n",
      "100%|████████████████████████████████████████████████████████████████████████████████| 782/782 [00:11<00:00, 67.31it/s]\n"
     ]
    },
    {
     "name": "stdout",
     "output_type": "stream",
     "text": [
      "Epoch:[66/100], Average Loss in ResNet: 0.004988\n"
     ]
    },
    {
     "name": "stderr",
     "output_type": "stream",
     "text": [
      "100%|████████████████████████████████████████████████████████████████████████████████| 782/782 [00:11<00:00, 66.74it/s]\n",
      "100%|████████████████████████████████████████████████████████████████████████████████| 782/782 [00:11<00:00, 67.05it/s]\n"
     ]
    },
    {
     "name": "stdout",
     "output_type": "stream",
     "text": [
      "Epoch:[67/100], Average Loss in ResNet: 0.005353\n"
     ]
    },
    {
     "name": "stderr",
     "output_type": "stream",
     "text": [
      "100%|████████████████████████████████████████████████████████████████████████████████| 782/782 [00:11<00:00, 66.97it/s]\n",
      "100%|████████████████████████████████████████████████████████████████████████████████| 782/782 [00:11<00:00, 67.03it/s]\n"
     ]
    },
    {
     "name": "stdout",
     "output_type": "stream",
     "text": [
      "Epoch:[68/100], Average Loss in ResNet: 0.005687\n"
     ]
    },
    {
     "name": "stderr",
     "output_type": "stream",
     "text": [
      "100%|████████████████████████████████████████████████████████████████████████████████| 782/782 [00:11<00:00, 67.19it/s]\n",
      "100%|████████████████████████████████████████████████████████████████████████████████| 782/782 [00:11<00:00, 67.18it/s]\n"
     ]
    },
    {
     "name": "stdout",
     "output_type": "stream",
     "text": [
      "Epoch:[69/100], Average Loss in ResNet: 0.004801\n"
     ]
    },
    {
     "name": "stderr",
     "output_type": "stream",
     "text": [
      "100%|████████████████████████████████████████████████████████████████████████████████| 782/782 [00:11<00:00, 66.96it/s]\n",
      "100%|████████████████████████████████████████████████████████████████████████████████| 782/782 [00:11<00:00, 66.63it/s]\n"
     ]
    },
    {
     "name": "stdout",
     "output_type": "stream",
     "text": [
      "Epoch:[70/100], Average Loss in ResNet: 0.005874\n"
     ]
    },
    {
     "name": "stderr",
     "output_type": "stream",
     "text": [
      "100%|████████████████████████████████████████████████████████████████████████████████| 782/782 [00:11<00:00, 66.91it/s]\n",
      "100%|████████████████████████████████████████████████████████████████████████████████| 782/782 [00:11<00:00, 67.03it/s]\n"
     ]
    },
    {
     "name": "stdout",
     "output_type": "stream",
     "text": [
      "Epoch:[71/100], Average Loss in ResNet: 0.007158\n"
     ]
    },
    {
     "name": "stderr",
     "output_type": "stream",
     "text": [
      "100%|████████████████████████████████████████████████████████████████████████████████| 782/782 [00:11<00:00, 67.18it/s]\n",
      "100%|████████████████████████████████████████████████████████████████████████████████| 782/782 [00:11<00:00, 66.74it/s]\n"
     ]
    },
    {
     "name": "stdout",
     "output_type": "stream",
     "text": [
      "Epoch:[72/100], Average Loss in ResNet: 0.003985\n"
     ]
    },
    {
     "name": "stderr",
     "output_type": "stream",
     "text": [
      "100%|████████████████████████████████████████████████████████████████████████████████| 782/782 [00:11<00:00, 65.90it/s]\n",
      "100%|████████████████████████████████████████████████████████████████████████████████| 782/782 [00:12<00:00, 64.44it/s]\n"
     ]
    },
    {
     "name": "stdout",
     "output_type": "stream",
     "text": [
      "Epoch:[73/100], Average Loss in ResNet: 0.004985\n"
     ]
    },
    {
     "name": "stderr",
     "output_type": "stream",
     "text": [
      "100%|████████████████████████████████████████████████████████████████████████████████| 782/782 [00:12<00:00, 63.11it/s]\n",
      "100%|████████████████████████████████████████████████████████████████████████████████| 782/782 [00:11<00:00, 65.39it/s]\n"
     ]
    },
    {
     "name": "stdout",
     "output_type": "stream",
     "text": [
      "Epoch:[74/100], Average Loss in ResNet: 0.005189\n"
     ]
    },
    {
     "name": "stderr",
     "output_type": "stream",
     "text": [
      "100%|████████████████████████████████████████████████████████████████████████████████| 782/782 [00:11<00:00, 65.60it/s]\n",
      "100%|████████████████████████████████████████████████████████████████████████████████| 782/782 [00:11<00:00, 65.85it/s]\n"
     ]
    },
    {
     "name": "stdout",
     "output_type": "stream",
     "text": [
      "Epoch:[75/100], Average Loss in ResNet: 0.005458\n"
     ]
    },
    {
     "name": "stderr",
     "output_type": "stream",
     "text": [
      "100%|████████████████████████████████████████████████████████████████████████████████| 782/782 [00:12<00:00, 63.58it/s]\n",
      "100%|████████████████████████████████████████████████████████████████████████████████| 782/782 [00:11<00:00, 65.48it/s]\n"
     ]
    },
    {
     "name": "stdout",
     "output_type": "stream",
     "text": [
      "Epoch:[76/100], Average Loss in ResNet: 0.004109\n"
     ]
    },
    {
     "name": "stderr",
     "output_type": "stream",
     "text": [
      "100%|████████████████████████████████████████████████████████████████████████████████| 782/782 [00:12<00:00, 64.66it/s]\n",
      "100%|████████████████████████████████████████████████████████████████████████████████| 782/782 [00:11<00:00, 65.98it/s]\n"
     ]
    },
    {
     "name": "stdout",
     "output_type": "stream",
     "text": [
      "Epoch:[77/100], Average Loss in ResNet: 0.005724\n"
     ]
    },
    {
     "name": "stderr",
     "output_type": "stream",
     "text": [
      "100%|████████████████████████████████████████████████████████████████████████████████| 782/782 [00:12<00:00, 61.09it/s]\n",
      "100%|████████████████████████████████████████████████████████████████████████████████| 782/782 [00:12<00:00, 63.90it/s]\n"
     ]
    },
    {
     "name": "stdout",
     "output_type": "stream",
     "text": [
      "Epoch:[78/100], Average Loss in ResNet: 0.003745\n"
     ]
    },
    {
     "name": "stderr",
     "output_type": "stream",
     "text": [
      "100%|████████████████████████████████████████████████████████████████████████████████| 782/782 [00:12<00:00, 62.49it/s]\n",
      "100%|████████████████████████████████████████████████████████████████████████████████| 782/782 [00:12<00:00, 63.97it/s]\n"
     ]
    },
    {
     "name": "stdout",
     "output_type": "stream",
     "text": [
      "Epoch:[79/100], Average Loss in ResNet: 0.005178\n"
     ]
    },
    {
     "name": "stderr",
     "output_type": "stream",
     "text": [
      "100%|████████████████████████████████████████████████████████████████████████████████| 782/782 [00:11<00:00, 65.64it/s]\n",
      "100%|████████████████████████████████████████████████████████████████████████████████| 782/782 [00:12<00:00, 63.15it/s]\n"
     ]
    },
    {
     "name": "stdout",
     "output_type": "stream",
     "text": [
      "Epoch:[80/100], Average Loss in ResNet: 0.003919\n"
     ]
    },
    {
     "name": "stderr",
     "output_type": "stream",
     "text": [
      "100%|████████████████████████████████████████████████████████████████████████████████| 782/782 [00:11<00:00, 66.54it/s]\n",
      "100%|████████████████████████████████████████████████████████████████████████████████| 782/782 [00:12<00:00, 64.53it/s]\n"
     ]
    },
    {
     "name": "stdout",
     "output_type": "stream",
     "text": [
      "Epoch:[81/100], Average Loss in ResNet: 0.004911\n"
     ]
    },
    {
     "name": "stderr",
     "output_type": "stream",
     "text": [
      "100%|████████████████████████████████████████████████████████████████████████████████| 782/782 [00:11<00:00, 65.30it/s]\n",
      "100%|████████████████████████████████████████████████████████████████████████████████| 782/782 [00:12<00:00, 64.21it/s]\n"
     ]
    },
    {
     "name": "stdout",
     "output_type": "stream",
     "text": [
      "Epoch:[82/100], Average Loss in ResNet: 0.004669\n"
     ]
    },
    {
     "name": "stderr",
     "output_type": "stream",
     "text": [
      "100%|████████████████████████████████████████████████████████████████████████████████| 782/782 [00:12<00:00, 62.11it/s]\n",
      "100%|████████████████████████████████████████████████████████████████████████████████| 782/782 [00:13<00:00, 59.86it/s]\n"
     ]
    },
    {
     "name": "stdout",
     "output_type": "stream",
     "text": [
      "Epoch:[83/100], Average Loss in ResNet: 0.004004\n"
     ]
    },
    {
     "name": "stderr",
     "output_type": "stream",
     "text": [
      "100%|████████████████████████████████████████████████████████████████████████████████| 782/782 [00:13<00:00, 56.70it/s]\n",
      "100%|████████████████████████████████████████████████████████████████████████████████| 782/782 [00:13<00:00, 57.51it/s]\n"
     ]
    },
    {
     "name": "stdout",
     "output_type": "stream",
     "text": [
      "Epoch:[84/100], Average Loss in ResNet: 0.004476\n"
     ]
    },
    {
     "name": "stderr",
     "output_type": "stream",
     "text": [
      "100%|████████████████████████████████████████████████████████████████████████████████| 782/782 [00:12<00:00, 61.30it/s]\n",
      "100%|████████████████████████████████████████████████████████████████████████████████| 782/782 [00:11<00:00, 66.17it/s]\n"
     ]
    },
    {
     "name": "stdout",
     "output_type": "stream",
     "text": [
      "Epoch:[85/100], Average Loss in ResNet: 0.004834\n"
     ]
    },
    {
     "name": "stderr",
     "output_type": "stream",
     "text": [
      "100%|████████████████████████████████████████████████████████████████████████████████| 782/782 [00:11<00:00, 66.71it/s]\n",
      "100%|████████████████████████████████████████████████████████████████████████████████| 782/782 [00:11<00:00, 65.75it/s]\n"
     ]
    },
    {
     "name": "stdout",
     "output_type": "stream",
     "text": [
      "Epoch:[86/100], Average Loss in ResNet: 0.004334\n"
     ]
    },
    {
     "name": "stderr",
     "output_type": "stream",
     "text": [
      "100%|████████████████████████████████████████████████████████████████████████████████| 782/782 [00:11<00:00, 66.91it/s]\n",
      "100%|████████████████████████████████████████████████████████████████████████████████| 782/782 [00:11<00:00, 66.60it/s]\n"
     ]
    },
    {
     "name": "stdout",
     "output_type": "stream",
     "text": [
      "Epoch:[87/100], Average Loss in ResNet: 0.004556\n"
     ]
    },
    {
     "name": "stderr",
     "output_type": "stream",
     "text": [
      "100%|████████████████████████████████████████████████████████████████████████████████| 782/782 [00:11<00:00, 66.54it/s]\n",
      "100%|████████████████████████████████████████████████████████████████████████████████| 782/782 [00:11<00:00, 67.19it/s]\n"
     ]
    },
    {
     "name": "stdout",
     "output_type": "stream",
     "text": [
      "Epoch:[88/100], Average Loss in ResNet: 0.004864\n"
     ]
    },
    {
     "name": "stderr",
     "output_type": "stream",
     "text": [
      "100%|████████████████████████████████████████████████████████████████████████████████| 782/782 [00:11<00:00, 66.75it/s]\n",
      "100%|████████████████████████████████████████████████████████████████████████████████| 782/782 [00:11<00:00, 66.96it/s]\n"
     ]
    },
    {
     "name": "stdout",
     "output_type": "stream",
     "text": [
      "Epoch:[89/100], Average Loss in ResNet: 0.003879\n"
     ]
    },
    {
     "name": "stderr",
     "output_type": "stream",
     "text": [
      "100%|████████████████████████████████████████████████████████████████████████████████| 782/782 [00:12<00:00, 65.04it/s]\n",
      "100%|████████████████████████████████████████████████████████████████████████████████| 782/782 [00:11<00:00, 66.08it/s]\n"
     ]
    },
    {
     "name": "stdout",
     "output_type": "stream",
     "text": [
      "Epoch:[90/100], Average Loss in ResNet: 0.003674\n"
     ]
    },
    {
     "name": "stderr",
     "output_type": "stream",
     "text": [
      "100%|████████████████████████████████████████████████████████████████████████████████| 782/782 [00:11<00:00, 66.84it/s]\n",
      "100%|████████████████████████████████████████████████████████████████████████████████| 782/782 [00:11<00:00, 67.21it/s]\n"
     ]
    },
    {
     "name": "stdout",
     "output_type": "stream",
     "text": [
      "Epoch:[91/100], Average Loss in ResNet: 0.004486\n"
     ]
    },
    {
     "name": "stderr",
     "output_type": "stream",
     "text": [
      "100%|████████████████████████████████████████████████████████████████████████████████| 782/782 [00:11<00:00, 66.27it/s]\n",
      "100%|████████████████████████████████████████████████████████████████████████████████| 782/782 [00:11<00:00, 66.90it/s]\n"
     ]
    },
    {
     "name": "stdout",
     "output_type": "stream",
     "text": [
      "Epoch:[92/100], Average Loss in ResNet: 0.004087\n"
     ]
    },
    {
     "name": "stderr",
     "output_type": "stream",
     "text": [
      "100%|████████████████████████████████████████████████████████████████████████████████| 782/782 [00:11<00:00, 66.23it/s]\n",
      "100%|████████████████████████████████████████████████████████████████████████████████| 782/782 [00:12<00:00, 64.28it/s]\n"
     ]
    },
    {
     "name": "stdout",
     "output_type": "stream",
     "text": [
      "Epoch:[93/100], Average Loss in ResNet: 0.004691\n"
     ]
    },
    {
     "name": "stderr",
     "output_type": "stream",
     "text": [
      "100%|████████████████████████████████████████████████████████████████████████████████| 782/782 [00:11<00:00, 65.25it/s]\n",
      "100%|████████████████████████████████████████████████████████████████████████████████| 782/782 [00:11<00:00, 66.36it/s]\n"
     ]
    },
    {
     "name": "stdout",
     "output_type": "stream",
     "text": [
      "Epoch:[94/100], Average Loss in ResNet: 0.004482\n"
     ]
    },
    {
     "name": "stderr",
     "output_type": "stream",
     "text": [
      "100%|████████████████████████████████████████████████████████████████████████████████| 782/782 [00:11<00:00, 65.32it/s]\n",
      "100%|████████████████████████████████████████████████████████████████████████████████| 782/782 [00:12<00:00, 63.49it/s]\n"
     ]
    },
    {
     "name": "stdout",
     "output_type": "stream",
     "text": [
      "Epoch:[95/100], Average Loss in ResNet: 0.004026\n"
     ]
    },
    {
     "name": "stderr",
     "output_type": "stream",
     "text": [
      "  2%|█▋                                                                               | 16/782 [00:00<00:11, 66.16it/s]"
     ]
    }
   ],
   "source": [
    "with wandb.init(project=\"tab-playground-feb-2022\", config=config):\n",
    "    config = wandb.config\n",
    "    \n",
    "    train_loader = DataLoader(dataset=train_set, batch_size=config.batch_size, shuffle=True)\n",
    "    val_loader = DataLoader(dataset=val_set, batch_size=config.batch_size, shuffle=True)\n",
    "    test_loader = DataLoader(dataset=test_set, batch_size=config.batch_size, shuffle=False)\n",
    "    \n",
    "    model = Net().to(device)\n",
    "    criterion = nn.CrossEntropyLoss()\n",
    "    optimizer = torch.optim.AdamW(model.parameters(), lr=config.learning_rate)\n",
    "    \n",
    "    train(model, train_loader, val_loader, criterion, optimizer, config)"
   ]
  },
  {
   "cell_type": "code",
   "execution_count": null,
   "id": "c2fb284d-b66a-4073-b77d-93a2385a9550",
   "metadata": {},
   "outputs": [],
   "source": [
    "model.eval()\n",
    "\n",
    "preds = []\n",
    "\n",
    "with torch.no_grad():\n",
    "    for x in test_loader:\n",
    "        x = x.to(device)\n",
    "        outputs = model(x.float())\n",
    "        preds.extend(torch.argmax(outputs, axis=1).cpu().numpy())"
   ]
  },
  {
   "cell_type": "code",
   "execution_count": null,
   "id": "9b8f1ab1-1eb0-446b-9839-e4e728a65207",
   "metadata": {},
   "outputs": [],
   "source": [
    "sub_df.target = le.inverse_transform(preds)\n",
    "sub_df.head()"
   ]
  },
  {
   "cell_type": "code",
   "execution_count": null,
   "id": "e9b7cf9d-8518-430d-89ba-eb8a9fce8366",
   "metadata": {},
   "outputs": [],
   "source": [
    "sub_df.to_csv('submission.csv', index=False)"
   ]
  },
  {
   "cell_type": "code",
   "execution_count": null,
   "id": "f6cd5c54-4c3e-4567-9448-505eecba4a6b",
   "metadata": {},
   "outputs": [],
   "source": [
    "!kaggle competitions submit -c tabular-playground-series-feb-2022 -f submission.csv -m \"ResNet!\""
   ]
  }
 ],
 "metadata": {
  "kernelspec": {
   "display_name": "Python [conda env:ml]",
   "language": "python",
   "name": "conda-env-ml-py"
  },
  "language_info": {
   "codemirror_mode": {
    "name": "ipython",
    "version": 3
   },
   "file_extension": ".py",
   "mimetype": "text/x-python",
   "name": "python",
   "nbconvert_exporter": "python",
   "pygments_lexer": "ipython3",
   "version": "3.9.7"
  }
 },
 "nbformat": 4,
 "nbformat_minor": 5
}
